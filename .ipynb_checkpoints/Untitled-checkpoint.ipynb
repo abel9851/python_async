{
 "cells": [
  {
   "cell_type": "code",
   "execution_count": 14,
   "id": "081e1371-c084-4270-8cc6-15dc93710e5f",
   "metadata": {},
   "outputs": [],
   "source": [
    "import time"
   ]
  },
  {
   "cell_type": "code",
   "execution_count": 3,
   "id": "538806ce-7776-4181-b758-899430121161",
   "metadata": {},
   "outputs": [],
   "source": [
    "import asyncio"
   ]
  },
  {
   "cell_type": "code",
   "execution_count": 2,
   "id": "59c7f0c6-7b2b-4f57-af10-b740ea72ba28",
   "metadata": {},
   "outputs": [],
   "source": [
    "async def do_async():\n",
    "    return 'async'"
   ]
  },
  {
   "cell_type": "code",
   "execution_count": 21,
   "id": "5f9b281e-ed1e-40cc-9b96-601315df8a78",
   "metadata": {},
   "outputs": [
    {
     "data": {
      "text/plain": [
       "<coroutine object do_async at 0x110756980>"
      ]
     },
     "execution_count": 21,
     "metadata": {},
     "output_type": "execute_result"
    }
   ],
   "source": [
    "do_async()"
   ]
  },
  {
   "cell_type": "code",
   "execution_count": 16,
   "id": "ed37629d-dc8a-4fbb-8914-944137cc6d18",
   "metadata": {},
   "outputs": [
    {
     "data": {
      "text/plain": [
       "'async'"
      ]
     },
     "execution_count": 16,
     "metadata": {},
     "output_type": "execute_result"
    }
   ],
   "source": [
    "await do_async()"
   ]
  },
  {
   "cell_type": "code",
   "execution_count": 20,
   "id": "77bd5507-291f-4f49-8fe4-1674b0a06498",
   "metadata": {},
   "outputs": [],
   "source": [
    "def find_users_sync(n):\n",
    "    for i in range(1, n + 1):\n",
    "        print(f\"{n}명 중 {i}번째 조회중..\")\n",
    "        time.sleep(1)\n",
    "    print(f\"총 {n}명의 사용자 동기조회완료했습니다.\")\n",
    "    "
   ]
  },
  {
   "cell_type": "code",
   "execution_count": 19,
   "id": "cd148adb-4edb-4341-947a-cf7fcf9ee73f",
   "metadata": {},
   "outputs": [],
   "source": [
    "def process_sync():\n",
    "    start = time.time()\n",
    "    find_users_sync(3)\n",
    "    find_users_sync(2)\n",
    "    find_users_sync(1)\n",
    "    end = time.time()\n",
    "    print(f\"찾기 종료 총 {end-start}초가 걸렸습니다.\")"
   ]
  },
  {
   "cell_type": "code",
   "execution_count": 23,
   "id": "d1e379d5-91dd-4999-aa7e-25c23418972f",
   "metadata": {},
   "outputs": [
    {
     "name": "stdout",
     "output_type": "stream",
     "text": [
      "3명 중 1번째 조회중..\n",
      "3명 중 2번째 조회중..\n",
      "3명 중 3번째 조회중..\n",
      "총 3명의 사용자 동기조회완료했습니다.\n",
      "2명 중 1번째 조회중..\n",
      "2명 중 2번째 조회중..\n",
      "총 2명의 사용자 동기조회완료했습니다.\n",
      "1명 중 1번째 조회중..\n",
      "총 1명의 사용자 동기조회완료했습니다.\n",
      "찾기 종료 총 6.021018743515015초가 걸렸습니다.\n"
     ]
    }
   ],
   "source": [
    "process_sync()"
   ]
  },
  {
   "cell_type": "code",
   "execution_count": 25,
   "id": "11307a52-8e31-4ec5-99f4-4b1e25899299",
   "metadata": {},
   "outputs": [],
   "source": [
    "async def find_users_async(n):\n",
    "    for i in range(1, n + 1):\n",
    "        print(f\"총 {n}명 중 {i}번째 비동기 조회중...\")\n",
    "        await asyncio.sleep(1)\n",
    "    print(f\"총 {n}명의 사용자 비동기조회완료했습니다.\")"
   ]
  },
  {
   "cell_type": "code",
   "execution_count": 27,
   "id": "c50e177e-8739-4ce3-9bdf-42744d179be8",
   "metadata": {},
   "outputs": [],
   "source": [
    "async def process_async():\n",
    "    start = time.time()\n",
    "    await asyncio.gather(\n",
    "        find_users_async(3),\n",
    "        find_users_async(2),\n",
    "        find_users_async(1)\n",
    "    )\n",
    "    end = time.time()\n",
    "    print(f\"찾기 종료 총 {end-start} 시간이 소요되었습니다.\")"
   ]
  },
  {
   "cell_type": "code",
   "execution_count": 29,
   "id": "44965c61-01f9-41e3-8bc4-0b033e10dc52",
   "metadata": {},
   "outputs": [
    {
     "name": "stdout",
     "output_type": "stream",
     "text": [
      "총 3명 중 1번째 비동기 조회중...\n",
      "총 2명 중 1번째 비동기 조회중...\n",
      "총 1명 중 1번째 비동기 조회중...\n",
      "총 3명 중 2번째 비동기 조회중...\n",
      "총 2명 중 2번째 비동기 조회중...\n",
      "총 1명의 사용자 비동기조회완료했습니다.\n",
      "총 3명 중 3번째 비동기 조회중...\n",
      "총 2명의 사용자 비동기조회완료했습니다.\n",
      "총 3명의 사용자 비동기조회완료했습니다.\n",
      "찾기 종료 총 3.004300117492676 시간이 소요되었습니다.\n"
     ]
    }
   ],
   "source": [
    "await process_async()"
   ]
  }
 ],
 "metadata": {
  "kernelspec": {
   "display_name": "Python 3 (ipykernel)",
   "language": "python",
   "name": "python3"
  },
  "language_info": {
   "codemirror_mode": {
    "name": "ipython",
    "version": 3
   },
   "file_extension": ".py",
   "mimetype": "text/x-python",
   "name": "python",
   "nbconvert_exporter": "python",
   "pygments_lexer": "ipython3",
   "version": "3.13.2"
  }
 },
 "nbformat": 4,
 "nbformat_minor": 5
}
